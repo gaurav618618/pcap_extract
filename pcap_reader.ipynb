{
 "cells": [
  {
   "cell_type": "code",
   "execution_count": 113,
   "metadata": {},
   "outputs": [],
   "source": [
    "import dpkt\n",
    "fd_pcap = open('extracted-tcp-42605.pcap','rb')\n",
    "pcap33 = dpkt.pcap.Reader(fd_pcap) #Opening and reading desired pcap using dpkt"
   ]
  },
  {
   "cell_type": "code",
   "execution_count": 114,
   "metadata": {},
   "outputs": [],
   "source": [
    "eth = []                                    #This list will conatin all the ethernet packets in a pcap \n",
    "for ts, buf in pcap33:\n",
    "    eth.append(dpkt.ethernet.Ethernet(buf)) # appending all the packets in ethernet form in the list\n"
   ]
  },
  {
   "cell_type": "code",
   "execution_count": 125,
   "metadata": {},
   "outputs": [
    {
     "data": {
      "text/plain": [
       "Ethernet(dst=b'\\x00\\x0c)\\xc9\\xcd\\x03', src=b'\\x00\\x0c)\\xc9\\xcd\\xf9', data=IP(len=48, id=18365, ttl=63, p=6, sum=42195, src=b'\\x01\\x01^#', dst=b'\\x01\\x02/\\x12', opts=b'', data=TCP(sport=42605, dport=80, seq=644709592, off=7, win=16383, sum=20120, opts=b'\\x02\\x04#\\x00\\x03\\x03\\x00\\x01')))"
      ]
     },
     "execution_count": 125,
     "metadata": {},
     "output_type": "execute_result"
    }
   ],
   "source": [
    "eth[0] #below is the 1st ethernet formated packet with there corresponding sections(tcp,ip,port,data)"
   ]
  },
  {
   "cell_type": "code",
   "execution_count": 124,
   "metadata": {},
   "outputs": [
    {
     "name": "stdout",
     "output_type": "stream",
     "text": [
      "b'\\xa6m\\x00P&m|\\xd8\\x00\\x00\\x00\\x00p\\x02?\\xffN\\x98\\x00\\x00\\x02\\x04#\\x00\\x03\\x03\\x00\\x01'\n"
     ]
    }
   ],
   "source": [
    "tcp_pack = []                     # this list will store tcp data from every ethernet packet above\n",
    "for et in eth:                    # for every ethernet packet in eth list\n",
    "    tcp_pack.append(et.data.data) # we are appending tcp data to tcp_pack list\n",
    "print(tcp_pack[0])                   # Printing only first raw TCP packet "
   ]
  },
  {
   "cell_type": "code",
   "execution_count": 123,
   "metadata": {},
   "outputs": [
    {
     "name": "stdout",
     "output_type": "stream",
     "text": [
      "GET /FpKFnscUipBU HTTP/1.1\r\n",
      "host: PeAgRuxCYTqIQcLISqOwMfWhzTOG\r\n",
      "user-agent: Mozilla/5.0 (compatible; MSIE 9.0; Windows NT 6.1; Trident/5.0)\r\n",
      "accept: */*\r\n",
      "connection: keep-alive\r\n",
      "\r\n",
      "\n"
     ]
    }
   ],
   "source": [
    "http_content = []                                                  # This list will store raw http data from tcp packets \n",
    "for tc_data in tcp_pack :\n",
    "    try:\n",
    "        http_content.append(dpkt.http.Request(tc_data.data))       # Storing http packet if it is a http request\n",
    "    except:\n",
    "        try:\n",
    "            http_content.append(dpkt.http.Response(tc_data.data))  # Storing http packet if it is a http response\n",
    "        except:\n",
    "            continue\n",
    "print(http_content[0]) # Printing only 1st http packet stored in above list"
   ]
  },
  {
   "cell_type": "code",
   "execution_count": 119,
   "metadata": {},
   "outputs": [],
   "source": [
    "# adding extra step to store only http request or response because packets with the same format of http but not http can be stored in above list\n",
    "Methods = ['GET','HEAD','POST','PUT','DELETE','CONNECT','OPTIONS','TRACE']              # all the methods used by http request\n",
    "Versions = ['0.9','1.0','1.1','2.0']                                                    # all the versions of http used\n",
    "fd = open('http_cont.txt','w+')\n",
    "for http_req_res in http_content:\n",
    "    #checking if every packets contains  above Methods and http versions then only write data to a file \n",
    "    if type(http_req_res)== dpkt.http.Request and http_req_res.method in Methods or type(http_req_res)== dpkt.http.Response and http_req_res.version in Versions:   \n",
    "        try:\n",
    "            fd.write(str(http_req_res))\n",
    "        except UnicodeEncodeError:\n",
    "            fd.write(repr(http_req_res))\n",
    "        \n",
    "fd.close()"
   ]
  },
  {
   "cell_type": "code",
   "execution_count": 70,
   "metadata": {},
   "outputs": [],
   "source": [
    "import re\n",
    "fd = open('attacks.txt','r')"
   ]
  },
  {
   "cell_type": "code",
   "execution_count": 71,
   "metadata": {
    "scrolled": true
   },
   "outputs": [
    {
     "name": "stdout",
     "output_type": "stream",
     "text": [
      "No possible XSS attack on line 1<--->There is a possibility of sql attack on line 1\n",
      "No possible XSS attack on line 2<--->There is a possibility of sql attack on line 2\n",
      "No possible XSS attack on line 3<--->There is a possibility of sql attack on line 3\n",
      "No possible XSS attack on line 4<--->There is a possibility of sql attack on line 4\n",
      "No possible XSS attack on line 5<--->There is a possibility of sql attack on line 5\n",
      "No possible XSS attack on line 6<--->There is a possibility of sql attack on line 6\n",
      "No possible XSS attack on line 7<--->There is a possibility of sql attack on line 7\n",
      "No possible XSS attack on line 8<--->There is a possibility of sql attack on line 8\n",
      "No possible XSS attack on line 9<--->There is a possibility of sql attack on line 9\n",
      "No possible XSS attack on line 10<--->There is a possibility of sql attack on line 10\n",
      "No possible XSS attack on line 11<--->There is a possibility of sql attack on line 11\n",
      "No possible XSS attack on line 12<--->There is a possibility of sql attack on line 12\n",
      "No possible XSS attack on line 13<--->There is a possibility of sql attack on line 13\n",
      "No possible XSS attack on line 14<--->There is a possibility of sql attack on line 14\n",
      "No possible XSS attack on line 15<--->There is a possibility of sql attack on line 15\n",
      "No possible XSS attack on line 16<--->There is a possibility of sql attack on line 16\n",
      "No possible XSS attack on line 17<--->There is a possibility of sql attack on line 17\n",
      "No possible XSS attack on line 18<--->There is a possibility of sql attack on line 18\n",
      "No possible XSS attack on line 19<--->There is a possibility of sql attack on line 19\n",
      "No possible XSS attack on line 20<--->There is a possibility of sql attack on line 20\n",
      "No possible XSS attack on line 21<--->There is a possibility of sql attack on line 21\n",
      "No possible XSS attack on line 22<--->There is a possibility of sql attack on line 22\n",
      "No possible XSS attack on line 23<--->There is a possibility of sql attack on line 23\n",
      "There is a possibility of XSS attack on line24<--->No possible sql Attack on line 24\n",
      "There is a possibility of XSS attack on line25<--->No possible sql Attack on line 25\n",
      "There is a possibility of XSS attack on line26<--->No possible sql Attack on line 26\n",
      "There is a possibility of XSS attack on line27<--->No possible sql Attack on line 27\n",
      "There is a possibility of XSS attack on line28<--->No possible sql Attack on line 28\n",
      "There is a possibility of XSS attack on line29<--->No possible sql Attack on line 29\n",
      "There is a possibility of XSS attack on line30<--->There is a possibility of sql attack on line 30\n",
      "There is a possibility of XSS attack on line31<--->No possible sql Attack on line 31\n",
      "There is a possibility of XSS attack on line32<--->No possible sql Attack on line 32\n",
      "There is a possibility of XSS attack on line33<--->No possible sql Attack on line 33\n"
     ]
    }
   ],
   "source": [
    "line_no = 1\n",
    "for line in fd.readlines():\n",
    "    \n",
    "    if re.search(r'(\\'|\\%27|\\\"|\\%22)*(\\%3E|>)*(\\%3C|<)+(\\%2F|\\/)*(script|javascript|vbscript|expression|applet|img|embed|iframe|frame|object|frameset)+(\\'|\\%27|\"|\\%22)*', line, re.M|re.I) == None:\n",
    "        print(\"No possible XSS attack on line \"+str(line_no), end='<--->')\n",
    "    else:\n",
    "        print(\"There is a possibility of XSS attack on line\"+str(line_no), end='<--->')\n",
    "    if re.search(r'(\\'|\\%27|\\\"|\\%22)*(\\;|\\%3B)*(\\)|%29)*(\\s|\\+|%20)*(waitfor|or|select|and|insert|union|update|delete|replace|truncate|exec|order)+(.*=.*)*', line, re.M|re.I) == None :\n",
    "        print(\"No possible sql Attack on line \"+str(line_no))\n",
    "    else:\n",
    "        print(\"There is a possibility of sql attack on line \"+str(line_no))\n",
    "    \n",
    "    line_no += 1\n",
    "fd.close() "
   ]
  },
  {
   "cell_type": "code",
   "execution_count": null,
   "metadata": {},
   "outputs": [],
   "source": []
  }
 ],
 "metadata": {
  "kernelspec": {
   "display_name": "Python 3",
   "language": "python",
   "name": "python3"
  },
  "language_info": {
   "codemirror_mode": {
    "name": "ipython",
    "version": 3
   },
   "file_extension": ".py",
   "mimetype": "text/x-python",
   "name": "python",
   "nbconvert_exporter": "python",
   "pygments_lexer": "ipython3",
   "version": "3.8.0"
  }
 },
 "nbformat": 4,
 "nbformat_minor": 2
}
